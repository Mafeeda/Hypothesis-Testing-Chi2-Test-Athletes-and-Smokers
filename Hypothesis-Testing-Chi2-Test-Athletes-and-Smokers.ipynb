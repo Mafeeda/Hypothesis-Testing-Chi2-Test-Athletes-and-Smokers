{
 "cells": [
  {
   "cell_type": "code",
   "execution_count": 1,
   "id": "99359d80",
   "metadata": {},
   "outputs": [],
   "source": [
    "import numpy as np\n",
    "from scipy.stats import chi2_contingency\n"
   ]
  },
  {
   "cell_type": "code",
   "execution_count": 2,
   "id": "bb070b45",
   "metadata": {},
   "outputs": [
    {
     "data": {
      "text/plain": [
       "array([[14,  4],\n",
       "       [ 0, 10]])"
      ]
     },
     "execution_count": 2,
     "metadata": {},
     "output_type": "execute_result"
    }
   ],
   "source": [
    "# Make 2-dimensional array\n",
    "\n",
    "obs = np.array([[14,4],[0,10]])\n",
    "obs"
   ]
  },
  {
   "cell_type": "code",
   "execution_count": 3,
   "id": "12ade32e",
   "metadata": {},
   "outputs": [
    {
     "data": {
      "text/plain": [
       "(12.600000000000001,\n",
       " 0.0003857467556820071,\n",
       " 1,\n",
       " array([[9., 9.],\n",
       "        [5., 5.]]))"
      ]
     },
     "execution_count": 3,
     "metadata": {},
     "output_type": "execute_result"
    }
   ],
   "source": [
    "# Chi2 contengency independence test\n",
    "\n",
    "chi2_contingency(obs) # o/p is (Chi2 stats value, p_value, df, expected obsvations)"
   ]
  },
  {
   "cell_type": "code",
   "execution_count": 4,
   "id": "1bad0638",
   "metadata": {},
   "outputs": [
    {
     "name": "stdout",
     "output_type": "stream",
     "text": [
      "p_value = 0.0003857467556820071\n"
     ]
    }
   ],
   "source": [
    "# Or \n",
    "stats, p, df, exp = chi2_contingency(obs) \n",
    "print('p_value =',p)"
   ]
  },
  {
   "cell_type": "code",
   "execution_count": 5,
   "id": "a9915282",
   "metadata": {},
   "outputs": [],
   "source": [
    "# Compare p_value with α = 0.05\n"
   ]
  },
  {
   "cell_type": "code",
   "execution_count": null,
   "id": "aec54502",
   "metadata": {},
   "outputs": [],
   "source": []
  }
 ],
 "metadata": {
  "kernelspec": {
   "display_name": "Python 3",
   "language": "python",
   "name": "python3"
  },
  "language_info": {
   "codemirror_mode": {
    "name": "ipython",
    "version": 3
   },
   "file_extension": ".py",
   "mimetype": "text/x-python",
   "name": "python",
   "nbconvert_exporter": "python",
   "pygments_lexer": "ipython3",
   "version": "3.8.8"
  }
 },
 "nbformat": 4,
 "nbformat_minor": 5
}
